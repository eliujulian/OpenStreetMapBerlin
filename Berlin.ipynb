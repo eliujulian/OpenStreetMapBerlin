{
 "cells": [
  {
   "cell_type": "markdown",
   "metadata": {},
   "source": [
    "# OpenStreetData Case Study for the Metro Area of Berlin, Germany"
   ]
  },
  {
   "cell_type": "markdown",
   "metadata": {},
   "source": [
    "## Map Area\n",
    "\n",
    "Berlin Metro Area, Germany."
   ]
  },
  {
   "cell_type": "markdown",
   "metadata": {},
   "source": [
    "## Data Wrangling\n",
    "\n",
    "I've downloaded the available data from https://mapzen.com/data/metro-extracts/ (May 2nd, 2016), extracted nodes and ways and imported the data into a sqlite database (See file data_preparation.py, database schama see schema.txt). \n",
    "\n",
    "The data was directly importet into two SQLite Databasese (data_dirty.db and data_clean.db). SQLite Capabilities were more convinient to inspect and clean the dataset since the sice of the csv files made working with them dificult.\n",
    "\n",
    "I performed checks on the database to ensure complete integration of all rows."
   ]
  },
  {
   "cell_type": "code",
   "execution_count": 1,
   "metadata": {
    "collapsed": true
   },
   "outputs": [],
   "source": [
    "# Pyhton 3.5\n",
    "\n",
    "import sqlite3\n",
    "from collections import defaultdict\n",
    "import datetime\n",
    "import matplotlib.pyplot as plt\n",
    "import pandas as pd\n",
    "\n",
    "\n",
    "conn_dirty = sqlite3.connect('data_dirty.db')\n",
    "c_dirty = conn_dirty.cursor()\n",
    "conn_clean = sqlite3.connect('data_clean.db')\n",
    "c_clean = conn_clean.cursor()\n",
    "\n",
    "# conn = sqlite3.connect('data1.db')\n",
    "# c = conn.cursor()\n",
    "\n",
    "def time_from_timestamp(timestamp_input):\n",
    "    # Helper to get a datetime object from the sql timestamp fields.\n",
    "    # Precision is limited days.\n",
    "    year = int(timestamp_input[:4])\n",
    "    month = int(timestamp_input[5:7])\n",
    "    day = int(timestamp_input[8:10])\n",
    "    return datetime.datetime(year, month, day)\n",
    "\n",
    "def formatnum(num):\n",
    "    # Helper for printing number with the comma.\n",
    "    return \"{:,}\".format(num)"
   ]
  },
  {
   "cell_type": "code",
   "execution_count": 2,
   "metadata": {
    "collapsed": true
   },
   "outputs": [],
   "source": [
    "# Warning: Takes some time with the big csv files.\n",
    "\n",
    "df_nodes = pd.DataFrame.from_csv('nodes.csv')\n",
    "df_nodes_tags = pd.DataFrame.from_csv('nodes_tags.csv')\n",
    "df_ways = pd.DataFrame.from_csv('ways.csv')\n",
    "df_ways_tags = pd.DataFrame.from_csv('ways_tags.csv')\n",
    "df_ways_nodes = pd.DataFrame.from_csv('ways_nodes.csv')"
   ]
  },
  {
   "cell_type": "code",
   "execution_count": 6,
   "metadata": {
    "collapsed": false
   },
   "outputs": [
    {
     "name": "stdout",
     "output_type": "stream",
     "text": [
      "Count of rows in csv files\n",
      "nodes:       10,460,000\n",
      "nodes_tags:   3,658,234\n",
      "ways:         1,596,861\n",
      "ways_tags:    4,191,676\n",
      "ways_nodes:  13,362,536\n"
     ]
    }
   ],
   "source": [
    "print(\"nodes:      \", formatnum(len(df_nodes.index.values)))\n",
    "print(\"nodes_tags:  \", formatnum(len(df_nodes_tags.index.values)))\n",
    "print(\"ways:        \", formatnum(len(df_ways.index.values)))\n",
    "print(\"ways_tags:   \", formatnum(len(df_ways_tags.index.values)))\n",
    "print(\"ways_nodes: \", formatnum(len(df_ways_nodes.index.values)))"
   ]
  },
  {
   "cell_type": "code",
   "execution_count": 2,
   "metadata": {
    "collapsed": false
   },
   "outputs": [
    {
     "name": "stdout",
     "output_type": "stream",
     "text": [
      "Count of rows in database dirty\n",
      "nodes:       10,460,000\n",
      "nodes_tags:   3,658,234\n",
      "ways:         1,596,861\n",
      "ways_tags:    4,191,676\n",
      "ways_nodes:  13,362,536\n"
     ]
    }
   ],
   "source": [
    "print(\"Count of rows in database dirty\")\n",
    "print(\"nodes:      \", formatnum(c_dirty.execute(\"SELECT Count(*) FROM nodes\").fetchall()[0][0]))\n",
    "print(\"nodes_tags:  \", formatnum(c_dirty.execute(\"SELECT Count(*) FROM nodes_tags\").fetchall()[0][0]))\n",
    "print(\"ways:        \", formatnum(c_dirty.execute(\"SELECT Count(*) FROM ways\").fetchall()[0][0]))\n",
    "print(\"ways_tags:   \", formatnum(c_dirty.execute(\"SELECT Count(*) FROM ways_tags\").fetchall()[0][0]))\n",
    "print(\"ways_nodes: \", formatnum(c_dirty.execute(\"SELECT Count(*) FROM ways_nodes\").fetchall()[0][0]))"
   ]
  },
  {
   "cell_type": "markdown",
   "metadata": {},
   "source": [
    "Furthermore, since nodes_tags and nodes_ways are sub to nodes and ways, ids from the tags file should allways refer to a valid id in the nodes or ways file."
   ]
  },
  {
   "cell_type": "code",
   "execution_count": 4,
   "metadata": {
    "collapsed": false
   },
   "outputs": [
    {
     "name": "stdout",
     "output_type": "stream",
     "text": [
      "True\n",
      "True\n"
     ]
    }
   ],
   "source": [
    "print(set(df_nodes_tags.index.values) <= set(df_nodes.index.values))\n",
    "print(set(df_ways_tags.index.values) <= set(df_ways.index.values))"
   ]
  },
  {
   "cell_type": "code",
   "execution_count": 5,
   "metadata": {
    "collapsed": false
   },
   "outputs": [
    {
     "name": "stdout",
     "output_type": "stream",
     "text": [
      "True\n",
      "True\n"
     ]
    }
   ],
   "source": [
    "nodes_set = set([n[0] for n in c_dirty.execute(\"SELECT id FROM nodes\").fetchall()])\n",
    "nodes_tags_set = set([n[0] for n in c_dirty.execute(\"SELECT id FROM nodes_tags\").fetchall()])\n",
    "ways_set = set([n[0] for n in c_dirty.execute(\"SELECT id FROM ways\").fetchall()])\n",
    "ways_tags_set = set([n[0] for n in c_dirty.execute(\"SELECT id FROM ways_tags\").fetchall()])\n",
    "\n",
    "print(nodes_tags_set <= nodes_set)\n",
    "print(ways_tags_set <= ways_set)"
   ]
  },
  {
   "cell_type": "markdown",
   "metadata": {},
   "source": [
    "## File Sizes\n",
    "\n",
    "* 'berlin.osm':    2.29 GB (uncompressed)\n",
    "* 'nodes.csv':      833 MB\n",
    "* 'nodes_tags.csv': 131 MB\n",
    "* 'ways.csv':        93 MB\n",
    "* 'ways_nodes.csv': 316 MB\n",
    "* 'ways_tags.csv':  140 MB"
   ]
  },
  {
   "cell_type": "markdown",
   "metadata": {},
   "source": [
    "## Data Quality and Cleaning\n",
    "\n",
    "While evaluating the data the following problems were encountered:\n",
    "\n",
    "* (nodes table) Columns lat and lon use different precision. \n",
    "* (nodes_tags table) Column key has values that are probably inconsistencies, like 'addr' and 'address' or 'abbr' and 'abrevation'\n",
    "* (nodes_tags table) The key 'fixme', 'FIXME' and 'TODO' was found.\n",
    "* (ways_tags table) The column value holds unexpected values for column key filtered for maxspeed. 250 is unlikely (39 times) as well as 210 or 190. Also the max limit 30 seems to be encoded in various different ways (30, DE:zone30, DE:zone:30, DE:30, PL:zone30, DE:zone(:30), zone30)\n",
    "* (ways_tags table) The column value holds unexpected values for the column key filtered by postcode. Postcodes are five digits starting (in Berlin) with a 1. '66-470' (1,632 times), '74-500' (1,486 times) and '74-505' (938 times) do not match this criteria. There are codes starting with a '0' (mostly area around Berlin) and one code is '39264' (a place called Deetz and quite a bit away from Berlin)."
   ]
  },
  {
   "cell_type": "markdown",
   "metadata": {},
   "source": [
    "## Evaluating the problems"
   ]
  },
  {
   "cell_type": "markdown",
   "metadata": {},
   "source": [
    "### nodes table : columns lat and lon\n",
    "\n",
    "An evaluation found, that there are 20 rows in the nodes table, that have a precision of 3 places or less after the dot. This means the precisions is somewhere in the range of about +/- 100 Meters .Therefore, for most uses this would be considered not accurate enough. Most accuracy ist registered 4 places better (7 digits after the dot). Examining the relating nodes_tags and ways_tags for these rows revelead that most rows represented an real world object that had a big 'footprint' and therefore can not be pinpointed to a very precise location. Five rows are villages and eleven are lakes. For the rest we might not rule out the possibilty that just zeros were removed at the end and that the lon and lat actually are the most precise coordinates. No cleaning was applied to lat and lon."
   ]
  },
  {
   "cell_type": "code",
   "execution_count": 3,
   "metadata": {
    "collapsed": false
   },
   "outputs": [
    {
     "data": {
      "text/plain": [
       "20"
      ]
     },
     "execution_count": 3,
     "metadata": {},
     "output_type": "execute_result"
    }
   ],
   "source": [
    "statement = \"\"\"\n",
    "SELECT lat, lon, id\n",
    "FROM nodes\n",
    "\"\"\"\n",
    "\n",
    "data = [n for n in c_dirty.execute(statement).fetchall() if len(str(n[0])) <= 6 and len(str(n[1])) <= 6]\n",
    "\n",
    "len(data)"
   ]
  },
  {
   "cell_type": "code",
   "execution_count": 9,
   "metadata": {
    "collapsed": false
   },
   "outputs": [
    {
     "name": "stdout",
     "output_type": "stream",
     "text": [
      "(240030792, 'place', 'village', 'regular\\r')\n",
      "(240041259, 'place', 'village', 'regular\\r')\n",
      "(240045498, 'place', 'village', 'regular\\r')\n",
      "(240070698, 'place', 'village', 'regular\\r')\n",
      "(240093837, 'place', 'village', 'regular\\r')\n"
     ]
    }
   ],
   "source": [
    "for lon, lat, id_ in data:\n",
    "    statement = \"SELECT * FROM nodes_tags WHERE id = {}\".format(id_)\n",
    "    d = c_dirty.execute(statement).fetchall()\n",
    "    if d:\n",
    "        for n in d:\n",
    "            if n[1] == 'place':          \n",
    "                print(n)"
   ]
  },
  {
   "cell_type": "code",
   "execution_count": 10,
   "metadata": {
    "collapsed": false
   },
   "outputs": [
    {
     "name": "stdout",
     "output_type": "stream",
     "text": [
      "('water', 'lake', 'regular\\r', 75809260)\n",
      "('water', 'lake', 'regular\\r', 75811800)\n",
      "('water', 'lake', 'regular\\r', 75811870)\n",
      "('water', 'lake', 'regular\\r', 75811875)\n",
      "('water', 'lake', 'regular\\r', 75811998)\n",
      "('water', 'lake', 'regular\\r', 75812002)\n",
      "('water', 'lake', 'regular\\r', 75812076)\n"
     ]
    }
   ],
   "source": [
    "# Running takes quite a while\n",
    "\n",
    "for lon, lat, id_ in data:\n",
    "    statement = \"\"\"SELECT ways_tags.key, ways_tags.value, ways_tags.type, nodes.id\n",
    "    FROM ways_tags\n",
    "    JOIN ways ON ways.id = ways_tags.id\n",
    "    JOIN ways_nodes ON ways_nodes.id = ways.id\n",
    "    JOIN nodes ON ways_nodes.node_id = nodes.id\n",
    "      WHERE nodes.id = {};\"\"\".format(id_)\n",
    "    \n",
    "    for n in c_dirty.execute(statement).fetchall():\n",
    "        if n[0] == 'water':\n",
    "            print(n)"
   ]
  },
  {
   "cell_type": "markdown",
   "metadata": {},
   "source": [
    "### nodes_tags table:  Inconsistent keys"
   ]
  },
  {
   "cell_type": "code",
   "execution_count": 21,
   "metadata": {
    "collapsed": false
   },
   "outputs": [
    {
     "data": {
      "text/plain": [
       "[['social_facility', 'social_facility_for'],\n",
       " ['milestone', 'milestone_type'],\n",
       " ['direction', 'direction_southeast'],\n",
       " ['direction', 'direction_west'],\n",
       " ['direction', 'direction_north'],\n",
       " ['direction', 'direction_southwest'],\n",
       " ['direction', 'direction_northwest'],\n",
       " ['full', 'full_name'],\n",
       " ['rem', 'remote'],\n",
       " ['rem', 'removed']]"
      ]
     },
     "execution_count": 21,
     "metadata": {},
     "output_type": "execute_result"
    }
   ],
   "source": [
    "statement = \"\"\"\n",
    "SELECT key\n",
    "FROM nodes_tags\n",
    "\"\"\"\n",
    "\n",
    "nodes_tags_list = list(set([n[0] for n in c.execute(statement).fetchall()]))\n",
    "\n",
    "possible_doubles = []\n",
    "for tag in nodes_tags_list:\n",
    "    for other_tag in nodes_tags_list:\n",
    "        if tag == other_tag:\n",
    "            pass\n",
    "        elif \":\" in other_tag:\n",
    "            pass\n",
    "        elif len(tag) == 2:\n",
    "            pass\n",
    "        elif other_tag.startswith(tag):\n",
    "            possible_doubles.append([tag, other_tag])\n",
    "\n",
    "possible_doubles[:10]  # Remove Slicing to see full list."
   ]
  },
  {
   "cell_type": "markdown",
   "metadata": {},
   "source": [
    "I'm looking at some of the possible key that have the same meaning:\n",
    "* 'art', 'artist'\n",
    "* 'drink_water', 'drinking_water'\n",
    "* 'addr', 'address'"
   ]
  },
  {
   "cell_type": "markdown",
   "metadata": {},
   "source": [
    "#### 'art' / 'artist'"
   ]
  },
  {
   "cell_type": "code",
   "execution_count": 5,
   "metadata": {
    "collapsed": false,
    "scrolled": true
   },
   "outputs": [
    {
     "name": "stdout",
     "output_type": "stream",
     "text": [
      "(277525548, 'artist', 'Hermann Hosaeus', 'regular\\r')\n",
      "(313826576, 'artist', 'Brigitte und Martin Matschinsky-Denninghoff', 'regular\\r')\n",
      "(437150946, 'artist', 'Henry Moore', 'regular\\r')\n",
      "(440937810, 'artist', 'Gerhard Thieme', 'regular\\r')\n",
      "(1038089721, 'artist', 'Heinz Mack', 'regular\\r')\n",
      "(1375278177, 'art', 'yes', 'museum\\r')\n",
      "(1670240199, 'art', 'exhibition_space', 'regular\\r')\n",
      "(1977116866, 'art', 'gallery', 'regular\\r')\n"
     ]
    }
   ],
   "source": [
    "# Pull some from every type\n",
    "\n",
    "statement = \"\"\"\n",
    "SELECT *\n",
    "FROM nodes_tags\n",
    "WHERE key = \"artist\"\n",
    "LIMIT 5;\n",
    "\"\"\"\n",
    "\n",
    "for n in c_dirty.execute(statement).fetchall():\n",
    "    print(n)\n",
    "    \n",
    "statement = \"\"\"\n",
    "SELECT *\n",
    "FROM nodes_tags\n",
    "WHERE key = \"art\"\n",
    "LIMIT 5;\n",
    "\"\"\"\n",
    "\n",
    "for n in c_dirty.execute(statement).fetchall():\n",
    "    print(n)"
   ]
  },
  {
   "cell_type": "markdown",
   "metadata": {},
   "source": [
    "'art' seems not to be an abrevation for 'artist'. No cleaning was applied."
   ]
  },
  {
   "cell_type": "markdown",
   "metadata": {},
   "source": [
    "#### 'drinking water'"
   ]
  },
  {
   "cell_type": "code",
   "execution_count": 6,
   "metadata": {
    "collapsed": false
   },
   "outputs": [
    {
     "name": "stdout",
     "output_type": "stream",
     "text": [
      "(2459611822, 'drink_water', 'yes', 'regular\\r')\n"
     ]
    }
   ],
   "source": [
    "statement = \"\"\"\n",
    "SELECT * \n",
    "FROM nodes_tags\n",
    "WHERE key = \"drink_water\"\n",
    "LIMIT 10;\n",
    "\"\"\"\n",
    "\n",
    "for n in c_dirty.execute(statement).fetchall():\n",
    "    print(n)"
   ]
  },
  {
   "cell_type": "code",
   "execution_count": 7,
   "metadata": {
    "collapsed": false
   },
   "outputs": [
    {
     "name": "stdout",
     "output_type": "stream",
     "text": [
      "(3627125409, 'drinking_water', 'Bah', 'regular\\r')\n",
      "(4450877764, 'drinking_water', 'no', 'regular\\r')\n",
      "(3872785663, 'drinking_water', 'pump', 'regular\\r')\n",
      "(4367704200, 'drinking_water', 'seasonal', 'regular\\r')\n",
      "(4396179327, 'drinking_water', 'yes', 'regular\\r')\n"
     ]
    }
   ],
   "source": [
    "statement = \"\"\"\n",
    "SELECT * \n",
    "FROM nodes_tags\n",
    "WHERE key = \"drinking_water\"\n",
    "GROUP BY value\n",
    "LIMIT 25;\n",
    "\"\"\"\n",
    "\n",
    "for n in c_dirty.execute(statement).fetchall():\n",
    "    print(n)"
   ]
  },
  {
   "cell_type": "code",
   "execution_count": 8,
   "metadata": {
    "collapsed": false
   },
   "outputs": [
    {
     "name": "stdout",
     "output_type": "stream",
     "text": [
      "(3627125409, 'name', 'Trinkbrunnen', 'regular\\r')\n",
      "(3627125409, 'amenity', 'drinking_water', 'regular\\r')\n",
      "(3627125409, 'operator', 'Berliner Wasserbetriebe', 'regular\\r')\n",
      "(3627125409, 'wheelchair', 'yes', 'regular\\r')\n",
      "(3627125409, 'description', 'Verzierter Trinkbrunnen zentral auf dem Platz', 'regular\\r')\n",
      "(3627125409, 'drinking_water', 'Bah', 'regular\\r')\n"
     ]
    }
   ],
   "source": [
    "# Show all tags for the 'Bah' Entry\n",
    "\n",
    "statement = \"\"\"\n",
    "SELECT * \n",
    "FROM nodes_tags\n",
    "WHERE id = 3627125409\n",
    "LIMIT 25;\n",
    "\"\"\"\n",
    "for n in c_dirty.execute(statement).fetchall():\n",
    "    print(n)"
   ]
  },
  {
   "cell_type": "markdown",
   "metadata": {},
   "source": [
    "The single entry \"drink_water\" seems to be not different from \"drinking_water\". \n",
    "\n",
    "Therefore \"drink_water\" was changed into \"drinking_water\".\n",
    "\n",
    "The value also seems to be not standardized. It is sometime an boolean value (yes or no) and sometimes a further description. Also the value \"Bah\" seems pointless and was changed into \"yes\"."
   ]
  },
  {
   "cell_type": "code",
   "execution_count": 12,
   "metadata": {
    "collapsed": false
   },
   "outputs": [
    {
     "data": {
      "text/plain": [
       "<sqlite3.Cursor at 0x16857748960>"
      ]
     },
     "execution_count": 12,
     "metadata": {},
     "output_type": "execute_result"
    }
   ],
   "source": [
    "statement = \"\"\"\n",
    "UPDATE nodes_tags\n",
    "SET key = 'drinking_water'\n",
    "WHERE key = 'drink_water'\n",
    "\"\"\"\n",
    "\n",
    "c_clean.execute(statement)"
   ]
  },
  {
   "cell_type": "code",
   "execution_count": 10,
   "metadata": {
    "collapsed": false
   },
   "outputs": [
    {
     "data": {
      "text/plain": [
       "<sqlite3.Cursor at 0x16857748960>"
      ]
     },
     "execution_count": 10,
     "metadata": {},
     "output_type": "execute_result"
    }
   ],
   "source": [
    "statement = \"\"\"\n",
    "UPDATE nodes_tags\n",
    "SET value = 'yes'\n",
    "WHERE id = 3627125409 \n",
    "AND key = 'drinking_water'\n",
    "\"\"\"\n",
    "\n",
    "c_clean.execute(statement)"
   ]
  },
  {
   "cell_type": "markdown",
   "metadata": {},
   "source": [
    "#### 'addr'"
   ]
  },
  {
   "cell_type": "code",
   "execution_count": 13,
   "metadata": {
    "collapsed": false
   },
   "outputs": [
    {
     "name": "stdout",
     "output_type": "stream",
     "text": [
      "('addr', 5486)\n",
      "('address', 3)\n"
     ]
    }
   ],
   "source": [
    "statement = \"\"\"\n",
    "SELECT key, Count(*)\n",
    "FROM nodes_tags\n",
    "WHERE key = \"addr\" OR key = \"address\"\n",
    "GROUP BY key\n",
    "\"\"\"\n",
    "\n",
    "for n in c_dirty.execute(statement).fetchall():\n",
    "    print(n)"
   ]
  },
  {
   "cell_type": "code",
   "execution_count": 14,
   "metadata": {
    "collapsed": false
   },
   "outputs": [
    {
     "name": "stdout",
     "output_type": "stream",
     "text": [
      "(1879818772, 'address', 'Am Parsteinsee 1, 16278 Angermünde', 'regular\\r')\n",
      "(1880630233, 'address', 'Haus Lindenstraße, Lindenstraße 43, 16278 Angermünde', 'regular\\r')\n",
      "(1901746292, 'address', 'Carrée Seestrasse, Geb.B, Aufg. 12/13; 3.OG', 'description\\r')\n"
     ]
    }
   ],
   "source": [
    "statement = \"\"\"\n",
    "SELECT *\n",
    "FROM nodes_tags\n",
    "WHERE key = \"address\"\n",
    "\"\"\"\n",
    "\n",
    "for n in c_dirty.execute(statement).fetchall():\n",
    "    print(n)"
   ]
  },
  {
   "cell_type": "code",
   "execution_count": 15,
   "metadata": {
    "collapsed": false
   },
   "outputs": [
    {
     "name": "stdout",
     "output_type": "stream",
     "text": [
      "(59954787, 'addr', 'Müllerhaus, Alt-Marzahn 63, 12685 Berlin - Jürgen Wolf', 'contact\\r')\n",
      "(84644791, 'addr', 'Geoportal Berlin / Hauskoordinaten', 'source\\r')\n",
      "(105184468, 'addr', 'Geoportal Berlin / Hauskoordinaten', 'source\\r')\n",
      "(304565290, 'addr', 'Geoportal Berlin / Hauskoordinaten', 'source\\r')\n",
      "(310462222, 'addr', 'Geoportal Berlin / Hauskoordinaten', 'source\\r')\n",
      "(518840681, 'addr', 'Geoportal Berlin / Hauskoordinaten', 'source\\r')\n",
      "(522469205, 'addr', 'Geoportal Berlin / Hauskoordinaten', 'source\\r')\n",
      "(522472057, 'addr', 'Geoportal Berlin / Hauskoordinaten', 'source\\r')\n",
      "(523257110, 'addr', 'Geoportal Berlin / Hauskoordinaten', 'source\\r')\n",
      "(541075880, 'addr', 'Geoportal Berlin / Hauskoordinaten', 'source\\r')\n"
     ]
    }
   ],
   "source": [
    "statement = \"\"\"\n",
    "SELECT *\n",
    "FROM nodes_tags\n",
    "WHERE key = \"addr\"\n",
    "LIMIT 10;\n",
    "\"\"\"\n",
    "\n",
    "for n in c_dirty.execute(statement).fetchall():\n",
    "    print(n)"
   ]
  },
  {
   "cell_type": "markdown",
   "metadata": {},
   "source": [
    "'addr' seems to be the dominantly used key. An inspection of the 3 rows did not reveal anything special. \n",
    "\n",
    "Therefore the 3 rows are be changed to 'addr'."
   ]
  },
  {
   "cell_type": "code",
   "execution_count": 16,
   "metadata": {
    "collapsed": false
   },
   "outputs": [
    {
     "data": {
      "text/plain": [
       "<sqlite3.Cursor at 0x16857748960>"
      ]
     },
     "execution_count": 16,
     "metadata": {},
     "output_type": "execute_result"
    }
   ],
   "source": [
    "statement = \"\"\"\n",
    "UPDATE nodes_tags\n",
    "SET key = 'addr'\n",
    "WHERE key = 'address'\n",
    "\"\"\"\n",
    "\n",
    "c_clean.execute(statement)"
   ]
  },
  {
   "cell_type": "markdown",
   "metadata": {},
   "source": [
    "### nodes_tags table: fixme and todo keys"
   ]
  },
  {
   "cell_type": "code",
   "execution_count": 18,
   "metadata": {
    "collapsed": false
   },
   "outputs": [
    {
     "name": "stdout",
     "output_type": "stream",
     "text": [
      "('FIXME', 194)\n",
      "('TODO', 1)\n",
      "('fixme', 968)\n"
     ]
    }
   ],
   "source": [
    "statement = \"\"\"\n",
    "SELECT key, Count(*)\n",
    "FROM nodes_tags\n",
    "WHERE key = \"fixme\" OR key = \"FIXME\" OR key = \"todo\" OR key = \"TODO\"\n",
    "GROUP BY key\n",
    "LIMIT 10;\n",
    "\"\"\"\n",
    "for n in c_dirty.execute(statement).fetchall():\n",
    "    print(n)"
   ]
  },
  {
   "cell_type": "code",
   "execution_count": 19,
   "metadata": {
    "collapsed": false
   },
   "outputs": [
    {
     "name": "stdout",
     "output_type": "stream",
     "text": [
      "(484061, 'FIXME', 'according to my observation on 2016-07-29, there is no device anymore. Confirm? -- it is temporary', 'regular\\r')\n",
      "(27411605, 'fixme', 'Zs-Anzeiger?', 'regular\\r')\n",
      "(29123772, 'fixme', 'tracks not accurate', 'regular\\r')\n"
     ]
    }
   ],
   "source": [
    "statement = \"\"\"\n",
    "SELECT *\n",
    "FROM nodes_tags\n",
    "WHERE key = \"fixme\" OR key = \"FIXME\" OR key = \"todo\" OR key = \"TODO\"\n",
    "LIMIT 3;\n",
    "\"\"\"\n",
    "for n in c_dirty.execute(statement).fetchall():\n",
    "    print(n)"
   ]
  },
  {
   "cell_type": "code",
   "execution_count": 20,
   "metadata": {
    "collapsed": false
   },
   "outputs": [
    {
     "name": "stdout",
     "output_type": "stream",
     "text": [
      "(484061, 'FIXME', 'according to my observation on 2016-07-29, there is no device anymore. Confirm? -- it is temporary', 'regular\\r', 484061, 52.290366, 12.9181252, 'gadacz', 121453, 13, 42375942, '2016-09-23T14:45:47Z\\r')\n",
      "(484061, 'highway', 'speed_camera', 'regular\\r', 484061, 52.290366, 12.9181252, 'gadacz', 121453, 13, 42375942, '2016-09-23T14:45:47Z\\r')\n",
      "(484061, 'maxspeed', '100', 'regular\\r', 484061, 52.290366, 12.9181252, 'gadacz', 121453, 13, 42375942, '2016-09-23T14:45:47Z\\r')\n"
     ]
    }
   ],
   "source": [
    "statement = \"\"\"\n",
    "SELECT *\n",
    "FROM nodes_tags, nodes\n",
    "WHERE nodes_tags.id = nodes.id AND nodes_tags.id = 484061\n",
    "LIMIT 3;\n",
    "\"\"\"\n",
    "for n in c_dirty.execute(statement).fetchall():\n",
    "    print(n)"
   ]
  },
  {
   "cell_type": "markdown",
   "metadata": {},
   "source": [
    "An inspection revelead no simple solution to fix the 'fixme' programaticaly. I looked at the first row, and I don't know it the speed camera at the A9/A10 highway is temporary or not.\n",
    "\n",
    "'FIXME', 'TODO' were changed to 'fixme'."
   ]
  },
  {
   "cell_type": "code",
   "execution_count": 21,
   "metadata": {
    "collapsed": false
   },
   "outputs": [
    {
     "data": {
      "text/plain": [
       "<sqlite3.Cursor at 0x16857748960>"
      ]
     },
     "execution_count": 21,
     "metadata": {},
     "output_type": "execute_result"
    }
   ],
   "source": [
    "statement = \"\"\"\n",
    "UPDATE nodes_tags\n",
    "SET key = 'fixme'\n",
    "WHERE key = 'FIXME' OR key = 'TODO'\n",
    "\"\"\"\n",
    "\n",
    "c_clean.execute(statement)"
   ]
  },
  {
   "cell_type": "markdown",
   "metadata": {},
   "source": [
    "### ways_tags table: maxspeed\n",
    "\n",
    "The evaluation of the ways_tags table showed that the meaning of the key \"maxspeed\" is ambigious. I sometimes refers to the speedlimit imposed by law (eg. 30, 50, 100) and sometimes to the technical maxspeed as comissioned (230). Both have a different meaning and should not be mixed into one key. The type of the value also differed often between plain numbers (30, 50, ...), number with a unit or sometimes a long text with a description.\n",
    "\n",
    "The evaluation also showed that the key to designate a speed limit of 30 kph was predominatly refered to by the value '30'. There were six more differenz kind of values that obviously meant the same (DE:zone30, etc.). Althought there is a difference if it is a speedlimit of 30 or speed limit zone 30, but the maxspeed is same for both cases. So I would think it would be smarter to limit the speedlimit key to just the numeric limit."
   ]
  },
  {
   "cell_type": "code",
   "execution_count": 24,
   "metadata": {
    "collapsed": false
   },
   "outputs": [
    {
     "name": "stdout",
     "output_type": "stream",
     "text": [
      "key: maxspeed\n",
      "30                     31626\n",
      "DE:zone30                830\n",
      "DE:zone:30               824\n",
      "DE:30                    201\n",
      "130                      156\n",
      "230                       91\n",
      "Laut Anlage 13.           28\n",
      "PL:zone30                 23\n",
      "DE:zone(:30)               2\n",
      "Zs3 \"4\" am Sign            1\n",
      "zone30                     1\n"
     ]
    }
   ],
   "source": [
    "# Find everything related to maxspeed 30:\n",
    "statement = \"\"\"\n",
    "SELECT key, value, COUNT(key)\n",
    "FROM ways_tags\n",
    "WHERE key = \"maxspeed\"\n",
    "AND value LIKE \"%30%\"\n",
    "GROUP BY value\n",
    "ORDER BY COUNT(key) DESC;\n",
    "\"\"\"\n",
    "\n",
    "print(\"key: maxspeed\")\n",
    "for n in c_dirty.execute(statement).fetchall():\n",
    "    f = n[1][:15]\n",
    "    print(f, \" \" * (20 - len(f) + (6 - len(str(n[2])))), n[2])"
   ]
  },
  {
   "cell_type": "code",
   "execution_count": 26,
   "metadata": {
    "collapsed": false
   },
   "outputs": [
    {
     "data": {
      "text/plain": [
       "<sqlite3.Cursor at 0x16857748960>"
      ]
     },
     "execution_count": 26,
     "metadata": {},
     "output_type": "execute_result"
    }
   ],
   "source": [
    "statement = \"\"\"\n",
    "UPDATE ways_tags\n",
    "SET value = 30\n",
    "WHERE key = 'maxspeed' \n",
    "AND value = 'zone30'\n",
    "\"\"\"\n",
    "\n",
    "c_clean.execute(statement)"
   ]
  },
  {
   "cell_type": "code",
   "execution_count": 27,
   "metadata": {
    "collapsed": false
   },
   "outputs": [
    {
     "data": {
      "text/plain": [
       "<sqlite3.Cursor at 0x16857748960>"
      ]
     },
     "execution_count": 27,
     "metadata": {},
     "output_type": "execute_result"
    }
   ],
   "source": [
    "statement = \"\"\"\n",
    "UPDATE ways_tags\n",
    "SET value = 30\n",
    "WHERE key = 'maxspeed' \n",
    "AND value = 'DE:zone(:30)'\n",
    "\"\"\"\n",
    "\n",
    "c_clean.execute(statement)"
   ]
  },
  {
   "cell_type": "code",
   "execution_count": 28,
   "metadata": {
    "collapsed": false
   },
   "outputs": [
    {
     "data": {
      "text/plain": [
       "<sqlite3.Cursor at 0x16857748960>"
      ]
     },
     "execution_count": 28,
     "metadata": {},
     "output_type": "execute_result"
    }
   ],
   "source": [
    "statement = \"\"\"\n",
    "UPDATE ways_tags\n",
    "SET value = 30\n",
    "WHERE key = 'maxspeed' \n",
    "AND value = 'PL:zone30'\n",
    "\"\"\"\n",
    "\n",
    "c_clean.execute(statement)"
   ]
  },
  {
   "cell_type": "code",
   "execution_count": 31,
   "metadata": {
    "collapsed": false
   },
   "outputs": [
    {
     "data": {
      "text/plain": [
       "<sqlite3.Cursor at 0x16857748960>"
      ]
     },
     "execution_count": 31,
     "metadata": {},
     "output_type": "execute_result"
    }
   ],
   "source": [
    "statement = \"\"\"\n",
    "UPDATE ways_tags\n",
    "SET value = 30\n",
    "WHERE key = 'maxspeed' \n",
    "AND value = 'DE:30'\n",
    "\"\"\"\n",
    "\n",
    "c_clean.execute(statement)"
   ]
  },
  {
   "cell_type": "code",
   "execution_count": 32,
   "metadata": {
    "collapsed": false
   },
   "outputs": [
    {
     "data": {
      "text/plain": [
       "<sqlite3.Cursor at 0x16857748960>"
      ]
     },
     "execution_count": 32,
     "metadata": {},
     "output_type": "execute_result"
    }
   ],
   "source": [
    "statement = \"\"\"\n",
    "UPDATE ways_tags\n",
    "SET value = 30\n",
    "WHERE key = 'maxspeed' \n",
    "AND value = 'DE:zone:30'\n",
    "\"\"\"\n",
    "\n",
    "c_clean.execute(statement)"
   ]
  },
  {
   "cell_type": "code",
   "execution_count": 33,
   "metadata": {
    "collapsed": false
   },
   "outputs": [
    {
     "data": {
      "text/plain": [
       "<sqlite3.Cursor at 0x16857748960>"
      ]
     },
     "execution_count": 33,
     "metadata": {},
     "output_type": "execute_result"
    }
   ],
   "source": [
    "statement = \"\"\"\n",
    "UPDATE ways_tags\n",
    "SET value = 30\n",
    "WHERE key = 'maxspeed' \n",
    "AND value = 'DE:zone30'\n",
    "\"\"\"\n",
    "\n",
    "c_clean.execute(statement)"
   ]
  },
  {
   "cell_type": "markdown",
   "metadata": {},
   "source": [
    "### ways_tags table: postcode"
   ]
  },
  {
   "cell_type": "code",
   "execution_count": 37,
   "metadata": {
    "collapsed": false
   },
   "outputs": [
    {
     "name": "stdout",
     "output_type": "stream",
     "text": [
      "('66-470', 1632)\n",
      "('74-500', 1486)\n",
      "('74-505', 938)\n",
      "('74-520', 860)\n",
      "('74-510', 785)\n",
      "('74-503', 671)\n",
      "('74-405', 101)\n",
      "('74-406', 78)\n",
      "('69-113', 76)\n",
      "('74-400', 69)\n",
      "('66-629', 61)\n",
      "('69-100', 12)\n",
      "('74-404', 7)\n",
      "('74-407', 4)\n",
      "('74-311', 1)\n",
      "('operator website, needs verification, might be 15366 Hoppegarten', 1)\n"
     ]
    }
   ],
   "source": [
    "# Show all postcodes that are longer or shorter than 5 digits.\n",
    "\n",
    "statement = \"\"\"\n",
    "SELECT value, COUNT(key)\n",
    "FROM ways_tags\n",
    "WHERE key = \"postcode\"\n",
    "GROUP BY value\n",
    "ORDER BY COUNT(key) DESC;\n",
    "\"\"\"\n",
    "\n",
    "for n in c_dirty.execute(statement).fetchall():\n",
    "    if len(n[0]) != 5:\n",
    "        print(n)"
   ]
  },
  {
   "cell_type": "code",
   "execution_count": 39,
   "metadata": {
    "collapsed": false
   },
   "outputs": [
    {
     "name": "stdout",
     "output_type": "stream",
     "text": [
      "(88408900, 'postcode', '66-470', 'addr\\r')\n"
     ]
    }
   ],
   "source": [
    "# Show for one row\n",
    "\n",
    "statement = \"\"\"\n",
    "SELECT *\n",
    "FROM ways_tags\n",
    "WHERE key = \"postcode\"\n",
    "AND value = '66-470'\n",
    "LIMIT 1;\n",
    "\"\"\"\n",
    "\n",
    "for n in c_dirty.execute(statement).fetchall():\n",
    "    print(n)"
   ]
  },
  {
   "cell_type": "code",
   "execution_count": 40,
   "metadata": {
    "collapsed": false
   },
   "outputs": [
    {
     "name": "stdout",
     "output_type": "stream",
     "text": [
      "name Intermarché\n",
      "city Kostrzyn nad Odrą\n",
      "street Władysława Sikorskiego\n"
     ]
    }
   ],
   "source": [
    "# Show name, city name and street name for this row:\n",
    "\n",
    "statement = \"\"\"\n",
    "SELECT *\n",
    "FROM ways_tags, ways\n",
    "WHERE ways_tags.id = ways.id\n",
    "AND ways_tags.id = 88408900\n",
    "\"\"\"\n",
    "\n",
    "for n in c_dirty.execute(statement).fetchall():\n",
    "    if n[1] in ['name', 'city', 'street']:\n",
    "        print(n[1], n[2])"
   ]
  },
  {
   "cell_type": "markdown",
   "metadata": {},
   "source": [
    "My first guess was historical berlin postcodes, but an evaluation showed that the postcodes are correct polish postcodes for a a small town behind the border to germany. I choose to leave the data in the file, since it seems to be valid data and I would like to include the broader range in my analysis. The one line with the guess was changed to the guess."
   ]
  },
  {
   "cell_type": "code",
   "execution_count": 41,
   "metadata": {
    "collapsed": false
   },
   "outputs": [
    {
     "data": {
      "text/plain": [
       "<sqlite3.Cursor at 0x16857748960>"
      ]
     },
     "execution_count": 41,
     "metadata": {},
     "output_type": "execute_result"
    }
   ],
   "source": [
    "statement = \"\"\"\n",
    "UPDATE ways_tags\n",
    "SET value = 15366\n",
    "WHERE key = \"postcode\"\n",
    "AND value = 'operator website, needs verification, might be 15366 Hoppegarten'\n",
    "\"\"\"\n",
    "\n",
    "c_clean.execute(statement)"
   ]
  },
  {
   "cell_type": "markdown",
   "metadata": {},
   "source": [
    "## Evaluating the contributors\n",
    "\n",
    "### Number of unique contributors"
   ]
  },
  {
   "cell_type": "code",
   "execution_count": 42,
   "metadata": {
    "collapsed": false
   },
   "outputs": [
    {
     "name": "stdout",
     "output_type": "stream",
     "text": [
      "7903\n"
     ]
    }
   ],
   "source": [
    "print(c_clean.execute(\"SELECT Count(*) FROM (SELECT uid FROM nodes UNION SELECT uid FROM ways) tmp;\").fetchall()[0][0])"
   ]
  },
  {
   "cell_type": "markdown",
   "metadata": {},
   "source": [
    "### Top 15 contributors by count\n",
    "\n",
    "The top 15 constributors each amass considerable rate of above 100,000 each. The top contributor has over 2.378 Mil. Any amount like this can only achieved programaticaly."
   ]
  },
  {
   "cell_type": "code",
   "execution_count": 43,
   "metadata": {
    "collapsed": false
   },
   "outputs": [
    {
     "name": "stdout",
     "output_type": "stream",
     "text": [
      "atpl_pilot             2,378,801\n",
      "jacobbraeutigam          574,371\n",
      "r-michael                337,015\n",
      "streckenkundler          335,778\n",
      "anbr                     329,417\n",
      "atpl_pilot               312,716\n",
      "WegefanHB                281,135\n",
      "Bot45715                 242,853\n",
      "Konrad Aust              166,110\n",
      "toaster                  156,494\n",
      "Elwood                   151,421\n",
      "g0ldfish                 145,945\n",
      "geozeisig                120,498\n",
      "Polarbear                116,260\n",
      "Randbewohner             102,982\n"
     ]
    }
   ],
   "source": [
    "statement = \"\"\"\n",
    "SELECT user, COUNT(*) FROM nodes\n",
    "  GROUP BY user\n",
    "UNION ALL\n",
    "SELECT user, COUNT(*) FROM ways\n",
    "  GROUP BY user\n",
    "ORDER BY COUNT(*) DESC\n",
    "LIMIT 15;\n",
    "\"\"\"\n",
    "\n",
    "for n in c_clean.execute(statement).fetchall():\n",
    "    nr = \"{:,}\".format(n[1])\n",
    "    print(n[0], \" \" * (20 - len(n[0])), \" \" * (9 - len(nr)), nr)"
   ]
  },
  {
   "cell_type": "markdown",
   "metadata": {},
   "source": [
    "### Top 15 contributor by duration of contribution\n",
    "\n",
    "Quite a lot of contributors contributet over a longer timeframe. The top list might not be accurate, since old changeset are not included, but an estimation shows many users who made contributions who are many years apart."
   ]
  },
  {
   "cell_type": "code",
   "execution_count": 44,
   "metadata": {
    "collapsed": false
   },
   "outputs": [
    {
     "name": "stdout",
     "output_type": "stream",
     "text": [
      "Username: Elwood              aktive:  3496 days, 0:00:00\n",
      "Username: elgolfo             aktive:  3481 days, 0:00:00\n",
      "Username: Megachip            aktive:  3421 days, 0:00:00\n",
      "Username: Christopher         aktive:  3333 days, 0:00:00\n",
      "Username: bahnpirat           aktive:  3316 days, 0:00:00\n",
      "Username: jorilla             aktive:  3315 days, 0:00:00\n",
      "Username: IngoWo              aktive:  3310 days, 0:00:00\n",
      "Username: wasat               aktive:  3303 days, 0:00:00\n",
      "Username: Streckensucher      aktive:  3294 days, 0:00:00\n",
      "Username: Protoxenus          aktive:  3260 days, 0:00:00\n",
      "Username: Pholker             aktive:  3256 days, 0:00:00\n",
      "Username: J budissin          aktive:  3242 days, 0:00:00\n",
      "Username: rrissiek            aktive:  3224 days, 0:00:00\n",
      "Username: BlackMagic          aktive:  3216 days, 0:00:00\n",
      "Username: Donsen64            aktive:  3204 days, 0:00:00\n"
     ]
    }
   ],
   "source": [
    "statement = \"\"\"\n",
    "SELECT user, timestamp \n",
    "FROM nodes\n",
    "UNION\n",
    "SELECT user, timestamp\n",
    "FROM ways\n",
    "\"\"\"\n",
    "users_w_time = [[n[0], time_from_timestamp(n[1])] for n in c_clean.execute(statement).fetchall()]\n",
    "\n",
    "users = defaultdict(list)\n",
    "\n",
    "for name, time in users_w_time:\n",
    "    users[name] += [time]\n",
    "\n",
    "users_result = []\n",
    "\n",
    "for name, time_list in users.items():\n",
    "    users_result.append([name, max(time_list), min(time_list), max(time_list) - min(time_list)])\n",
    "\n",
    "users_results_sorted = sorted(users_result, key = lambda x: x[3], reverse=True)[:15]\n",
    "\n",
    "for n in users_results_sorted:\n",
    "    print(\"Username:\", n[0], \" \" * (18 - len(n[0])) , \"aktive: \", n[3])"
   ]
  },
  {
   "cell_type": "markdown",
   "metadata": {
    "collapsed": true
   },
   "source": [
    "## Additional Evaluations"
   ]
  },
  {
   "cell_type": "markdown",
   "metadata": {
    "collapsed": true
   },
   "source": [
    "### Top 15 Amenity\n",
    "\n",
    "Of the top 15 most were expected. I didn't expect 2,011 hunting stands but the data captures quite a bit of the rural areas around downtown Berlin. Still: More hunting stands than kindergardens."
   ]
  },
  {
   "cell_type": "code",
   "execution_count": 46,
   "metadata": {
    "collapsed": false
   },
   "outputs": [
    {
     "name": "stdout",
     "output_type": "stream",
     "text": [
      "bench            8,851\n",
      "restaurant       5,097\n",
      "post_box         3,659\n",
      "recycling        3,160\n",
      "waste_basket     2,487\n",
      "bicycle_parking  2,480\n",
      "fast_food        2,471\n",
      "cafe             2,407\n",
      "hunting_stand    2,011\n",
      "kindergarten     1,718\n",
      "parking          1,684\n",
      "telephone        1,566\n",
      "vending_machine  1,560\n",
      "pharmacy         1,190\n",
      "pub              1,190\n"
     ]
    }
   ],
   "source": [
    "statement = \"\"\"\n",
    "SELECT value, Count(*)\n",
    "FROM nodes_tags\n",
    "WHERE key = 'amenity'\n",
    "GROUP BY value\n",
    "ORDER BY Count(*) DESC\n",
    "LIMIT 15;\n",
    "\"\"\"\n",
    "\n",
    "for n in c_clean.execute(statement).fetchall():\n",
    "    print(n[0], \" \" * (15 - len(n[0])), formatnum(n[1]))"
   ]
  },
  {
   "cell_type": "markdown",
   "metadata": {},
   "source": [
    "### Cluster of italien places\n",
    "\n",
    "All italien restaurants were plottet to see clusters. There is a fair amount (800) places. The divide between west and east is still visible. The more detailes map shows in which areas there are more. Italian restaurants dominate in the old western part in Charlottenburg in Wilmersdorf, the important and more well of areas before the fallof the wall. In the eastern part there are a lot of places in the well off party like Mitte, Prenzlauer Berg and (West-)Friedrichhein. The areas in the north of the city center (Wedding, Pankow, Moabit, etc.) had an amazingly low count considering the think clusters in the neighboring quarters. "
   ]
  },
  {
   "cell_type": "code",
   "execution_count": 51,
   "metadata": {
    "collapsed": false
   },
   "outputs": [],
   "source": [
    "statement = \"\"\"\n",
    "SELECT nodes.lon, nodes.lat\n",
    "FROM nodes_tags\n",
    "JOIN nodes ON nodes.id = nodes_tags.id\n",
    "WHERE nodes_tags.value = \"italian\"\n",
    "AND key = 'cuisine'\n",
    "\"\"\"\n",
    "\n",
    "italian_places = list(c_clean.execute(statement).fetchall())\n",
    "\n",
    "df = pd.DataFrame()\n",
    "df['lat'] = [n[1] for n in italian_places]\n",
    "df['lon'] = [n[0] for n in italian_places]"
   ]
  },
  {
   "cell_type": "code",
   "execution_count": 53,
   "metadata": {
    "collapsed": false
   },
   "outputs": [
    {
     "data": {
      "image/png": "[encoded data removed]",
      "text/plain": [
       "<matplotlib.figure.Figure at 0x1680c01cc50>"
      ]
     },
     "metadata": {},
     "output_type": "display_data"
    }
   ],
   "source": [
    "plt.scatter([n[0] for n in italian_places], [n[1] for n in italian_places])\n",
    "plt.title('Mapping of italian restaurants in Berlin')\n",
    "plt.show()"
   ]
  },
  {
   "cell_type": "markdown",
   "metadata": {
    "collapsed": false
   },
   "source": [
    "The following map was created with the script italian_places.py\n",
    "![title](italian_cluster.png)"
   ]
  },
  {
   "cell_type": "markdown",
   "metadata": {},
   "source": [
    "## Ideas for Improvement\n",
    "\n",
    "The data for Berlin is generally on a high level. Common standards are partly missing for values like maxspeed on ways. It should be possible to work on this in a programmatical way."
   ]
  },
  {
   "cell_type": "markdown",
   "metadata": {},
   "source": [
    "## Conclusion\n",
    "\n",
    "Berlin is big and cleaning up all the \\\"fixme\\\" and other open ends is a lifetime job. The data is generally considering the size quite good."
   ]
  }
 ],
 "metadata": {
  "kernelspec": {
   "display_name": "Python [py35]",
   "language": "python",
   "name": "Python [py35]"
  },
  "language_info": {
   "codemirror_mode": {
    "name": "ipython",
    "version": 3
   },
   "file_extension": ".py",
   "mimetype": "text/x-python",
   "name": "python",
   "nbconvert_exporter": "python",
   "pygments_lexer": "ipython3",
   "version": "3.5.2"
  }
 },
 "nbformat": 4,
 "nbformat_minor": 0
}
