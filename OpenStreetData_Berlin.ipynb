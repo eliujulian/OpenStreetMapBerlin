{
 "cells": [
  {
   "cell_type": "markdown",
   "metadata": {},
   "source": [
    "# OpenStreetData Case Study for the Metro Area of Berlin, Germany"
   ]
  },
  {
   "cell_type": "markdown",
   "metadata": {},
   "source": [
    "## Map Area\n",
    "\n",
    "Berlin Metro Area, Germany\n",
    "\n",
    "Berlin was choosen, since it is my hometown."
   ]
  },
  {
   "cell_type": "markdown",
   "metadata": {},
   "source": [
    "## Evaluation of the available data\n",
    "\n",
    "I've downloaded the available data from https://mapzen.com/data/metro-extracts/ (May 2nd, 2016), extracted nodes and ways and imported the data into a sqlite database (See file data_preparation.py). Some unknown characters in usernames (kyrillic) lead to problem extracting the 'nodes' and 'ways' from the OSM File. SQL import errors lead to a not complete database. \n",
    "\n",
    "Therefore, the count of rows was checked against the csv files:"
   ]
  },
  {
   "cell_type": "code",
   "execution_count": 2,
   "metadata": {
    "collapsed": true
   },
   "outputs": [],
   "source": [
    "# Warning: Takes some time running with the big csv files.\n",
    "\n",
    "import pandas as pd\n",
    "\n",
    "\n",
    "df_nodes = pd.DataFrame.from_csv('nodes.csv')\n",
    "df_nodes_tags = pd.DataFrame.from_csv('nodes_tags.csv')\n",
    "df_ways = pd.DataFrame.from_csv('ways.csv')\n",
    "df_ways_tags = pd.DataFrame.from_csv('ways_tags.csv')\n",
    "df_ways_nodes = pd.DataFrame.from_csv('ways_nodes.csv')"
   ]
  },
  {
   "cell_type": "code",
   "execution_count": 3,
   "metadata": {
    "collapsed": false
   },
   "outputs": [
    {
     "name": "stdout",
     "output_type": "stream",
     "text": [
      "Count of rows in csv files\n",
      "nodes:  10460000\n",
      "nodes_tags:  3658234\n",
      "ways:  1596861\n",
      "ways_tags:  4191676\n",
      "ways_nodes:  13362536\n"
     ]
    }
   ],
   "source": [
    "print(\"Count of rows in csv files\")\n",
    "print(\"nodes: \", len(df_nodes.index.values))\n",
    "print(\"nodes_tags: \", len(df_nodes_tags.index.values))\n",
    "print(\"ways: \", len(df_ways.index.values))\n",
    "print(\"ways_tags: \", len(df_ways_tags.index.values))\n",
    "print(\"ways_nodes: \", len(df_ways_nodes.index.values))"
   ]
  },
  {
   "cell_type": "markdown",
   "metadata": {},
   "source": [
    "Count of rows in database:\n",
    "\n",
    "    SELECT Count(*) FROM nodes;\n",
    "    > \n",
    "    \n",
    "    SELECT Count(*) FROM nodes_tags;\n",
    "    >\n",
    "    \n",
    "    SELECT Count(*) FROM ways;\n",
    "    >\n",
    "    \n",
    "    SELECT Count(*) FROM ways_tags;\n",
    "    >\n",
    "    \n",
    "    SELECT Count(*) FROM ways_nodes;\n",
    "    >\n",
    "\n",
    "The tables ... and ... are one row longer. A manual inspection revealed that the column names were added as a data row. These rows were removed manualy. "
   ]
  },
  {
   "cell_type": "markdown",
   "metadata": {},
   "source": [
    "Furthermore, since nodes_tags and nodes_ways are sub to nodes and ways, ids from the tags file should allways refer to a valid id in the nodes or ways file."
   ]
  },
  {
   "cell_type": "code",
   "execution_count": 4,
   "metadata": {
    "collapsed": false
   },
   "outputs": [
    {
     "name": "stdout",
     "output_type": "stream",
     "text": [
      "True\n",
      "True\n"
     ]
    }
   ],
   "source": [
    "print(set(df_nodes_tags.index.values) <= set(df_nodes.index.values))\n",
    "print(set(df_ways_tags.index.values) <= set(df_ways.index.values))"
   ]
  },
  {
   "cell_type": "markdown",
   "metadata": {},
   "source": [
    "## Evaluating the data\n",
    "\n",
    "While evaluating the data the following problems were encountered:\n",
    "\n",
    " \n",
    "\n",
    "* (nodes_tags table) Streetsnames, citys, housenumbers etc. are partly encoded as key: city or as key: addr.city etc.\n",
    "* (nodes_tags table) Keys for addr and address exists, as well as abbr and abrevation\n",
    "* (nodes_tags table) cid_58 keys\n",
    "* (nodes_tags table) the key \"FIXME\" was found 194 times, the key \"TODO\" 1 time\n",
    "* (nodes_tags table) the key housenumber was found 387.564 times, the key housenumber_1 1 time.\n",
    "* (nodes_tags table) The key psychotherapy was found 2 times, the key psychotherpy 1 time."
   ]
  },
  {
   "cell_type": "markdown",
   "metadata": {},
   "source": [
    "### housenumber and addr:housenumber\n",
    "\n",
    "nodes_tags id = 2820107585"
   ]
  },
  {
   "cell_type": "markdown",
   "metadata": {},
   "source": [
    "### FIXME and TODO\n",
    "\n",
    "The corresponding node for the TODO key could not be akquired.\n",
    "\n",
    "The FIXME corresponds to specific problems with a node. I looked into id = 613389531 (value: Position is a wild guess) but wasn't able to verify or not verify the position."
   ]
  }
 ],
 "metadata": {
  "anaconda-cloud": {},
  "kernelspec": {
   "display_name": "Python [py35]",
   "language": "python",
   "name": "Python [py35]"
  },
  "language_info": {
   "codemirror_mode": {
    "name": "ipython",
    "version": 3
   },
   "file_extension": ".py",
   "mimetype": "text/x-python",
   "name": "python",
   "nbconvert_exporter": "python",
   "pygments_lexer": "ipython3",
   "version": "3.5.2"
  }
 },
 "nbformat": 4,
 "nbformat_minor": 0
}
